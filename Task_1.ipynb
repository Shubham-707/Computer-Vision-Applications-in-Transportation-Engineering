{
 "cells": [
  {
   "cell_type": "code",
   "execution_count": 14,
   "id": "87b54f80",
   "metadata": {},
   "outputs": [],
   "source": [
    "import numpy as np\n",
    "import pandas as pd\n",
    "import seaborn as sns\n",
    "import matplotlib.pyplot as plt\n",
    "from sklearn.preprocessing import StandardScaler\n",
    "from sklearn.svm import SVC\n",
    "from sklearn.metrics import confusion_matrix\n",
    "from sklearn.metrics import precision_score, recall_score, f1_score, accuracy_score\n",
    "from sklearn.model_selection import train_test_split"
   ]
  },
  {
   "cell_type": "code",
   "execution_count": 2,
   "id": "5391c85d",
   "metadata": {},
   "outputs": [
    {
     "data": {
      "text/html": [
       "<div>\n",
       "<style scoped>\n",
       "    .dataframe tbody tr th:only-of-type {\n",
       "        vertical-align: middle;\n",
       "    }\n",
       "\n",
       "    .dataframe tbody tr th {\n",
       "        vertical-align: top;\n",
       "    }\n",
       "\n",
       "    .dataframe thead th {\n",
       "        text-align: right;\n",
       "    }\n",
       "</style>\n",
       "<table border=\"1\" class=\"dataframe\">\n",
       "  <thead>\n",
       "    <tr style=\"text-align: right;\">\n",
       "      <th></th>\n",
       "      <th>Unnamed: 0</th>\n",
       "      <th>mean_r</th>\n",
       "      <th>std_r</th>\n",
       "      <th>kur_r</th>\n",
       "      <th>skew_r</th>\n",
       "      <th>mean_g</th>\n",
       "      <th>std_g</th>\n",
       "      <th>kur_g</th>\n",
       "      <th>skew_g</th>\n",
       "      <th>mean_b</th>\n",
       "      <th>...</th>\n",
       "      <th>contrast_r</th>\n",
       "      <th>contrast_g</th>\n",
       "      <th>contrast_b</th>\n",
       "      <th>corr_rg</th>\n",
       "      <th>corr_rb</th>\n",
       "      <th>corr_gb</th>\n",
       "      <th>moment_r</th>\n",
       "      <th>moment_g</th>\n",
       "      <th>moment_b</th>\n",
       "      <th>label</th>\n",
       "    </tr>\n",
       "  </thead>\n",
       "  <tbody>\n",
       "    <tr>\n",
       "      <th>0</th>\n",
       "      <td>0</td>\n",
       "      <td>107.5734</td>\n",
       "      <td>29.267480</td>\n",
       "      <td>0.744029</td>\n",
       "      <td>0.408828</td>\n",
       "      <td>110.2533</td>\n",
       "      <td>26.953218</td>\n",
       "      <td>1.254689</td>\n",
       "      <td>-0.135613</td>\n",
       "      <td>113.5715</td>\n",
       "      <td>...</td>\n",
       "      <td>9.181953</td>\n",
       "      <td>177.0</td>\n",
       "      <td>173.0</td>\n",
       "      <td>162.0</td>\n",
       "      <td>0.951368</td>\n",
       "      <td>0.913876</td>\n",
       "      <td>0.803333</td>\n",
       "      <td>856.585412</td>\n",
       "      <td>726.475939</td>\n",
       "      <td>0</td>\n",
       "    </tr>\n",
       "    <tr>\n",
       "      <th>1</th>\n",
       "      <td>1</td>\n",
       "      <td>178.6713</td>\n",
       "      <td>14.917756</td>\n",
       "      <td>3.192406</td>\n",
       "      <td>0.238175</td>\n",
       "      <td>184.4947</td>\n",
       "      <td>14.882156</td>\n",
       "      <td>3.035196</td>\n",
       "      <td>0.141160</td>\n",
       "      <td>190.8538</td>\n",
       "      <td>...</td>\n",
       "      <td>9.207314</td>\n",
       "      <td>142.0</td>\n",
       "      <td>136.0</td>\n",
       "      <td>129.0</td>\n",
       "      <td>0.988325</td>\n",
       "      <td>0.989474</td>\n",
       "      <td>0.976787</td>\n",
       "      <td>222.539456</td>\n",
       "      <td>221.478572</td>\n",
       "      <td>0</td>\n",
       "    </tr>\n",
       "    <tr>\n",
       "      <th>2</th>\n",
       "      <td>2</td>\n",
       "      <td>176.6517</td>\n",
       "      <td>34.618255</td>\n",
       "      <td>-0.146336</td>\n",
       "      <td>-0.421552</td>\n",
       "      <td>161.3083</td>\n",
       "      <td>33.688699</td>\n",
       "      <td>0.057178</td>\n",
       "      <td>-0.521476</td>\n",
       "      <td>147.2760</td>\n",
       "      <td>...</td>\n",
       "      <td>9.186737</td>\n",
       "      <td>199.0</td>\n",
       "      <td>200.0</td>\n",
       "      <td>194.0</td>\n",
       "      <td>0.968581</td>\n",
       "      <td>0.967398</td>\n",
       "      <td>0.890845</td>\n",
       "      <td>1198.423587</td>\n",
       "      <td>1134.928451</td>\n",
       "      <td>1</td>\n",
       "    </tr>\n",
       "    <tr>\n",
       "      <th>3</th>\n",
       "      <td>3</td>\n",
       "      <td>113.5760</td>\n",
       "      <td>20.084502</td>\n",
       "      <td>0.719752</td>\n",
       "      <td>0.737728</td>\n",
       "      <td>114.0056</td>\n",
       "      <td>19.536222</td>\n",
       "      <td>0.655846</td>\n",
       "      <td>0.729521</td>\n",
       "      <td>113.6179</td>\n",
       "      <td>...</td>\n",
       "      <td>9.197973</td>\n",
       "      <td>146.0</td>\n",
       "      <td>142.0</td>\n",
       "      <td>138.0</td>\n",
       "      <td>0.987383</td>\n",
       "      <td>0.983663</td>\n",
       "      <td>0.961305</td>\n",
       "      <td>403.387224</td>\n",
       "      <td>381.663969</td>\n",
       "      <td>0</td>\n",
       "    </tr>\n",
       "    <tr>\n",
       "      <th>4</th>\n",
       "      <td>4</td>\n",
       "      <td>125.3565</td>\n",
       "      <td>29.251595</td>\n",
       "      <td>0.430344</td>\n",
       "      <td>0.833496</td>\n",
       "      <td>129.5277</td>\n",
       "      <td>28.661968</td>\n",
       "      <td>0.475502</td>\n",
       "      <td>0.804161</td>\n",
       "      <td>131.9745</td>\n",
       "      <td>...</td>\n",
       "      <td>9.189257</td>\n",
       "      <td>173.0</td>\n",
       "      <td>176.0</td>\n",
       "      <td>177.0</td>\n",
       "      <td>0.980727</td>\n",
       "      <td>0.986702</td>\n",
       "      <td>0.950291</td>\n",
       "      <td>855.655808</td>\n",
       "      <td>821.508433</td>\n",
       "      <td>1</td>\n",
       "    </tr>\n",
       "  </tbody>\n",
       "</table>\n",
       "<p>5 rows × 25 columns</p>\n",
       "</div>"
      ],
      "text/plain": [
       "   Unnamed: 0    mean_r      std_r     kur_r    skew_r    mean_g      std_g  \\\n",
       "0           0  107.5734  29.267480  0.744029  0.408828  110.2533  26.953218   \n",
       "1           1  178.6713  14.917756  3.192406  0.238175  184.4947  14.882156   \n",
       "2           2  176.6517  34.618255 -0.146336 -0.421552  161.3083  33.688699   \n",
       "3           3  113.5760  20.084502  0.719752  0.737728  114.0056  19.536222   \n",
       "4           4  125.3565  29.251595  0.430344  0.833496  129.5277  28.661968   \n",
       "\n",
       "      kur_g    skew_g    mean_b  ...  contrast_r  contrast_g  contrast_b  \\\n",
       "0  1.254689 -0.135613  113.5715  ...    9.181953       177.0       173.0   \n",
       "1  3.035196  0.141160  190.8538  ...    9.207314       142.0       136.0   \n",
       "2  0.057178 -0.521476  147.2760  ...    9.186737       199.0       200.0   \n",
       "3  0.655846  0.729521  113.6179  ...    9.197973       146.0       142.0   \n",
       "4  0.475502  0.804161  131.9745  ...    9.189257       173.0       176.0   \n",
       "\n",
       "   corr_rg   corr_rb   corr_gb  moment_r     moment_g     moment_b  label  \n",
       "0    162.0  0.951368  0.913876  0.803333   856.585412   726.475939      0  \n",
       "1    129.0  0.988325  0.989474  0.976787   222.539456   221.478572      0  \n",
       "2    194.0  0.968581  0.967398  0.890845  1198.423587  1134.928451      1  \n",
       "3    138.0  0.987383  0.983663  0.961305   403.387224   381.663969      0  \n",
       "4    177.0  0.980727  0.986702  0.950291   855.655808   821.508433      1  \n",
       "\n",
       "[5 rows x 25 columns]"
      ]
     },
     "execution_count": 2,
     "metadata": {},
     "output_type": "execute_result"
    }
   ],
   "source": [
    "df=pd.read_csv(r\"C:\\Users\\Shubham Kumar\\Dropbox\\PC\\Downloads\\crack_detection.csv\")\n",
    "df.head(5)"
   ]
  },
  {
   "cell_type": "code",
   "execution_count": 4,
   "id": "a6a13356",
   "metadata": {},
   "outputs": [
    {
     "data": {
      "text/plain": [
       "<AxesSubplot:xlabel='label', ylabel='count'>"
      ]
     },
     "execution_count": 4,
     "metadata": {},
     "output_type": "execute_result"
    },
    {
     "data": {
      "image/png": "[encoded data removed]",
      "text/plain": [
       "<Figure size 432x288 with 1 Axes>"
      ]
     },
     "metadata": {
      "needs_background": "light"
     },
     "output_type": "display_data"
    }
   ],
   "source": [
    "sns.countplot(x=\"label\",data=df)   #seaborn plot for better visualization"
   ]
  },
  {
   "cell_type": "code",
   "execution_count": 33,
   "id": "9474715b",
   "metadata": {},
   "outputs": [],
   "source": [
    "train_size=0.6 #now splitting data"
   ]
  },
  {
   "cell_type": "code",
   "execution_count": 43,
   "id": "5344c46e",
   "metadata": {},
   "outputs": [],
   "source": [
    "X = df.drop(columns = ['label']).copy()\n",
    "y = df['label']\n",
    "\n",
    "\n",
    "# # input\n",
    "# X = df.iloc[:, [\"mean_r\", \"mean_g\",\"mean_b\"]].values\n",
    " \n",
    "# # output\n",
    "# y = df.iloc[:, \"label\"].values"
   ]
  },
  {
   "cell_type": "code",
   "execution_count": 44,
   "id": "1603c979",
   "metadata": {},
   "outputs": [],
   "source": [
    "X_train, X_rem, y_train, y_rem = train_test_split(X,y, train_size=0.6)"
   ]
  },
  {
   "cell_type": "code",
   "execution_count": 45,
   "id": "5e725507",
   "metadata": {},
   "outputs": [],
   "source": [
    "test_size = 0.5    #splitting test and validation set in 50-50"
   ]
  },
  {
   "cell_type": "code",
   "execution_count": 46,
   "id": "398884e3",
   "metadata": {},
   "outputs": [],
   "source": [
    "X_valid, X_test, y_valid, y_test = train_test_split(X_rem,y_rem, test_size=0.5)"
   ]
  },
  {
   "cell_type": "code",
   "execution_count": 47,
   "id": "4b62606f",
   "metadata": {},
   "outputs": [
    {
     "name": "stdout",
     "output_type": "stream",
     "text": [
      "(420, 24)\n",
      "(420,)\n",
      "(140, 24)\n",
      "(140,)\n",
      "(140, 24)\n",
      "(140,)\n"
     ]
    },
    {
     "data": {
      "text/plain": [
       "(None, None)"
      ]
     },
     "execution_count": 47,
     "metadata": {},
     "output_type": "execute_result"
    }
   ],
   "source": [
    "print(X_train.shape), print(y_train.shape)\n",
    "print(X_valid.shape), print(y_valid.shape)\n",
    "print(X_test.shape), print(y_test.shape)"
   ]
  },
  {
   "cell_type": "code",
   "execution_count": 48,
   "id": "e60d1105",
   "metadata": {},
   "outputs": [],
   "source": [
    "sc = StandardScaler()\n",
    "sc.fit(X_train)\n",
    "X_train_std = sc.transform(X_train)\n",
    "X_test_std = sc.transform(X_test)\n",
    "\n",
    "svc = SVC(kernel='linear', C=10.0, random_state=1)\n",
    "svc.fit(X_train, y_train)           #Using one of the model and fitting our data\n",
    "\n",
    "y_pred = svc.predict(X_test)\n",
    "\n",
    "# sc_x = StandardScaler()\n",
    "# xtrain = sc_x.fit_transform(xtrain)\n",
    "# xtest = sc_x.transform(xtest)"
   ]
  },
  {
   "cell_type": "code",
   "execution_count": 49,
   "id": "e7e8c7c2",
   "metadata": {},
   "outputs": [
    {
     "name": "stdout",
     "output_type": "stream",
     "text": [
      "F1 Score: 0.811\n"
     ]
    }
   ],
   "source": [
    "print('F1 Score: %.3f' % f1_score(y_test, y_pred))   #directly calculating F1 score using formula"
   ]
  },
  {
   "cell_type": "code",
   "execution_count": 50,
   "id": "8cda5fe6",
   "metadata": {},
   "outputs": [
    {
     "data": {
      "text/plain": [
       "0.8071428571428572"
      ]
     },
     "execution_count": 50,
     "metadata": {},
     "output_type": "execute_result"
    }
   ],
   "source": [
    "# from sklearn.metrics import accuracy_score\n",
    "accuracy_score(y_test,y_pred)"
   ]
  },
  {
   "cell_type": "code",
   "execution_count": null,
   "id": "943df086",
   "metadata": {},
   "outputs": [],
   "source": []
  }
 ],
 "metadata": {
  "kernelspec": {
   "display_name": "Python 3.10.4 64-bit",
   "language": "python",
   "name": "python3"
  },
  "language_info": {
   "codemirror_mode": {
    "name": "ipython",
    "version": 3
   },
   "file_extension": ".py",
   "mimetype": "text/x-python",
   "name": "python",
   "nbconvert_exporter": "python",
   "pygments_lexer": "ipython3",
   "version": "3.10.4"
  },
  "vscode": {
   "interpreter": {
    "hash": "3b49e07977f09521dd24b478f9a710834781d4667a9c428eed131c821b6253e6"
   }
  }
 },
 "nbformat": 4,
 "nbformat_minor": 5
}
